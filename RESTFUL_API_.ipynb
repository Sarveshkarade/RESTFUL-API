{
  "nbformat": 4,
  "nbformat_minor": 0,
  "metadata": {
    "colab": {
      "provenance": []
    },
    "kernelspec": {
      "name": "python3",
      "display_name": "Python 3"
    },
    "language_info": {
      "name": "python"
    }
  },
  "cells": [
    {
      "cell_type": "markdown",
      "source": [
        "RESTFUL API PRACTICAL ASSIGNMENT.\n"
      ],
      "metadata": {
        "id": "4UsrUa48Tsye"
      }
    },
    {
      "cell_type": "code",
      "source": [
        "#Q1:How do you create a basic Flask application\n",
        "from flask import Flask\n",
        "\n",
        "app = Flask(__name__)\n",
        "@app.route('/')\n",
        "def hello_world():\n",
        "    return 'Hello, World!'\n",
        "if __name__ == '__main__':\n",
        "    app.run(debug=True)"
      ],
      "metadata": {
        "id": "U3JEzwfFTzNC"
      },
      "execution_count": 2,
      "outputs": []
    },
    {
      "cell_type": "code",
      "source": [
        "#Q2:How do you serve static files like images or CSS in Flask\n",
        "from flask import Flask, render_template\n",
        "@app.route('/')\n",
        "def index():\n",
        "    return render_template('index.html')\n"
      ],
      "metadata": {
        "id": "0-0sE7n8UiBX"
      },
      "execution_count": 3,
      "outputs": []
    },
    {
      "cell_type": "code",
      "source": [
        "#Q3:How do you define different routes with different HTTP methods in Flask\n",
        "from flask import Flask\n",
        "\n",
        "app = Flask(__name__)\n",
        "\n",
        "@app.route('/hello', methods=['GET'])\n",
        "def hello():\n",
        "    return \"Hello, World!\"\n",
        "@app.route('/submit', methods=['POST'])\n",
        "def submit():\n",
        "    return \"Data submitted successfully!\""
      ],
      "metadata": {
        "id": "JMtgawDtU48T"
      },
      "execution_count": 7,
      "outputs": []
    },
    {
      "cell_type": "code",
      "source": [
        "#Q4:How do you render HTML templates in Flask\n",
        "from flask import Flask, render_template\n",
        "\n",
        "app = Flask(__name__)\n",
        "\n",
        "@app.route('/')\n",
        "def home():\n",
        "    return render_template('index.html', name=\"John Doe\")\n",
        "\n",
        "if __name__ == \"__main__\":\n",
        "    app.run(debug=True)"
      ],
      "metadata": {
        "id": "wEikLYLDVIyc"
      },
      "execution_count": 8,
      "outputs": []
    },
    {
      "cell_type": "code",
      "source": [
        "#Q5:How can you generate URLs for routes in Flask using url_for\n",
        "from flask import Flask, render_template, url_for\n",
        "\n",
        "app = Flask(__name__)\n",
        "\n",
        "@app.route('/')\n",
        "def home():\n",
        "    about_url = url_for('about')\n",
        "    return f\"Welcome to the home page. About URL: {about_url}\"\n",
        "\n",
        "@app.route('/about')\n",
        "def about():\n",
        "    return \"This is the About page\"\n",
        "\n",
        "if __name__ == \"__main__\":\n",
        "    app.run(debug=True)\n"
      ],
      "metadata": {
        "id": "GBxrIcfXV-XT"
      },
      "execution_count": 9,
      "outputs": []
    },
    {
      "cell_type": "code",
      "source": [
        "#Q6:How do you handle forms in Flask\n",
        "from flask import Flask, request, render_template\n",
        "\n",
        "app = Flask(__name__)\n",
        "\n",
        "@app.route('/')\n",
        "def home():\n",
        "    return render_template('form.html')\n",
        "\n",
        "@app.route('/submit', methods=['POST'])\n",
        "def submit():\n",
        "    name = request.form.get('name')\n",
        "    email = request.form.get('email')\n",
        "\n",
        "    return f\"Form submitted! Name: {name}, Email: {email}\"\n",
        "if __name__ == \"__main__\":\n",
        "    app.run(debug=True)"
      ],
      "metadata": {
        "id": "7WvhCyjjWTGQ"
      },
      "execution_count": null,
      "outputs": []
    },
    {
      "cell_type": "code",
      "source": [
        "#Q7:How can you validate form data in Flask\n",
        "from flask import Flask, request, render_template, redirect, url_for\n",
        "\n",
        "app = Flask(__name__)\n",
        "\n",
        "@app.route('/submit', methods=['POST'])\n",
        "def submit():\n",
        "    name = request.form.get('name')\n",
        "    email = request.form.get('email')\n",
        "    if not name:\n",
        "        return \"Name is required\", 400\n",
        "    if not email or '@' not in email:\n",
        "        return \"Invalid email\", 400\n",
        "    return f\"Form submitted successfully! Name: {name}, Email: {email}\"\n",
        "\n",
        "if __name__ == \"__main__\":\n",
        "    app.run(debug=True)"
      ],
      "metadata": {
        "id": "nRzkEQ6LWpp-"
      },
      "execution_count": null,
      "outputs": []
    },
    {
      "cell_type": "code",
      "source": [
        "#Q8:How do you manage sessions in Flask\n",
        "from flask import Flask, session, render_template, redirect, url_for\n",
        "\n",
        "app = Flask(__name__)\n",
        "app.secret_key = 'your_secret_key_here'\n",
        "@app.route('/')\n",
        "def index():\n",
        "    session['username'] = 'JohnDoe'\n",
        "    return 'Session created for user JohnDoe!'\n",
        "\n",
        "if __name__ == \"__main__\":\n",
        "    app.run(debug=True)"
      ],
      "metadata": {
        "id": "3_MNkoc7XCpt"
      },
      "execution_count": null,
      "outputs": []
    },
    {
      "cell_type": "code",
      "source": [
        "#Q9:How do you redirect to a different route in Flask\n",
        "from flask import Flask, redirect, url_for\n",
        "\n",
        "app = Flask(__name__)\n",
        "@app.route('/')\n",
        "def index():\n",
        "    return 'Welcome to the Index Page!'\n",
        "@app.route('/about')\n",
        "def about():\n",
        "    return 'This is the About Page!'\n",
        "@app.route('/go_to_about')\n",
        "def go_to_about():\n",
        "    return redirect(url_for('about'))\n",
        "if __name__ == '__main__':\n",
        "    app.run(debug=True)"
      ],
      "metadata": {
        "id": "nR3gT_7gXdvu"
      },
      "execution_count": null,
      "outputs": []
    },
    {
      "cell_type": "code",
      "source": [
        "#Q10:How do you handle errors in Flask (e.g., 404)\n",
        "from flask import Flask, render_template\n",
        "\n",
        "app = Flask(__name__)\n",
        "@app.route('/')\n",
        "def index():\n",
        "    return 'Welcome to the Home Page!'\n",
        "@app.errorhandler(404)\n",
        "def not_found_error(error):\n",
        "    return render_template('404.html'), 404\n",
        "@app.errorhandler(500)\n",
        "def internal_error(error):\n",
        "    return \"500 Internal Server Error - Something went wrong!\", 500\n",
        "\n",
        "if __name__ == '__main__':\n",
        "    app.run(debug=True)"
      ],
      "metadata": {
        "id": "RfgH5_swX0wt"
      },
      "execution_count": null,
      "outputs": []
    },
    {
      "cell_type": "code",
      "source": [
        "#Q11:How do you structure a Flask app using Blueprints\n",
        "from flask import Blueprint, render_template\n",
        "auth_bp = Blueprint('auth', __name__, template_folder='templates')\n",
        "@auth_bp.route('/login')\n",
        "def login():\n",
        "    return render_template('login.html')\n",
        "\n",
        "@auth_bp.route('/register')\n",
        "def register():\n",
        "    return render_template('register.html')\n"
      ],
      "metadata": {
        "id": "Fvyh8JqOYJO2"
      },
      "execution_count": null,
      "outputs": []
    },
    {
      "cell_type": "code",
      "source": [
        "#Q12:How do you define a custom Jinja filter in Flask\n",
        "from flask import Flask, render_template\n",
        "app = Flask(__name__)\n",
        "@app.template_filter('reverse')\n",
        "def reverse_filter(value):\n",
        "    return value[::-1]\n",
        "@app.route('/')\n",
        "def index():\n",
        "    return render_template('index.html', name=\"Flask\")\n",
        "if __name__ == '__main__':\n",
        "    app.run(debug=True)"
      ],
      "metadata": {
        "id": "48eix3NBYYod"
      },
      "execution_count": null,
      "outputs": []
    },
    {
      "cell_type": "code",
      "source": [
        "#Q13: How can you redirect with query parameters in Flask\n",
        "from flask import Flask, redirect, url_for\n",
        "\n",
        "app = Flask(__name__)\n",
        "\n",
        "@app.route('/')\n",
        "def home():\n",
        "    return redirect(url_for('hello', name='John', age=25))\n",
        "@app.route('/hello')\n",
        "def hello():\n",
        "    name = request.args.get('name')\n",
        "    age = request.args.get('age')\n",
        "    return f\"Hello, {name}! You are {age} years old.\"\n",
        "if __name__ == '__main__':\n",
        "    app.run(debug=True)"
      ],
      "metadata": {
        "id": "vrn5SHHzY1D5"
      },
      "execution_count": null,
      "outputs": []
    },
    {
      "cell_type": "code",
      "source": [
        "#Q14:How do you return JSON responses in Flask\n",
        "from flask import Flask, jsonify\n",
        "\n",
        "app = Flask(__name__)\n",
        "\n",
        "@app.route('/')\n",
        "def index():\n",
        "    data = {\n",
        "        'message': 'Hello, World!',\n",
        "        'status': 'success'\n",
        "    }\n",
        "    return jsonify(data)\n",
        "\n",
        "if __name__ == '__main__':\n",
        "    app.run(debug=True)"
      ],
      "metadata": {
        "id": "7tnUjkz8ZQHQ"
      },
      "execution_count": null,
      "outputs": []
    },
    {
      "cell_type": "code",
      "source": [
        "#Q15:How do you capture URL parameters in Flask\n",
        "from flask import Flask\n",
        "app = Flask(__name__)\n",
        "@app.route('/user/<username>')\n",
        "def show_user_profile(username):\n",
        "    return f\"User profile for: {username}\"\n",
        "\n",
        "if __name__ == '__main__':\n",
        "    app.run(debug=True)"
      ],
      "metadata": {
        "id": "ENJB-oO-ZdPo"
      },
      "execution_count": null,
      "outputs": []
    }
  ]
}